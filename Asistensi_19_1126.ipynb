{
  "nbformat": 4,
  "nbformat_minor": 0,
  "metadata": {
    "colab": {
      "provenance": []
    },
    "kernelspec": {
      "name": "python3",
      "display_name": "Python 3"
    },
    "language_info": {
      "name": "python"
    }
  },
  "cells": [
    {
      "cell_type": "markdown",
      "source": [
        "# $\\text{Python Oct 22 | Asistensi 19 | Mini Case}$\n",
        "- Sabtu, 26 November 2022\n",
        "- [Study Case Instruction](https://docs.google.com/document/d/1t9ACvVyYYv-LG3A8Q-ErmFcv0NL4GqVjlw2J-d7L76o/edit?usp=sharing)"
      ],
      "metadata": {
        "id": "jM2cikNX0KqA"
      }
    },
    {
      "cell_type": "code",
      "source": [
        "import pandas as pd\n",
        "from tabulate import tabulate"
      ],
      "metadata": {
        "id": "ZoTteq5UDu77"
      },
      "execution_count": null,
      "outputs": []
    },
    {
      "cell_type": "code",
      "source": [
        "dictionary = {1:[20, 3],\n",
        "              2:[30, 2],\n",
        "              3:[10, 1]}"
      ],
      "metadata": {
        "id": "9Nhg5Qz7NWd-"
      },
      "execution_count": null,
      "outputs": []
    },
    {
      "cell_type": "code",
      "source": [
        "for i in :\n",
        "    print(i)"
      ],
      "metadata": {
        "colab": {
          "base_uri": "https://localhost:8080/"
        },
        "id": "ccno28Q6NnH6",
        "outputId": "92c3ee16-668a-4363-82c9-952713593f8d"
      },
      "execution_count": null,
      "outputs": [
        {
          "output_type": "stream",
          "name": "stdout",
          "text": [
            "1\n",
            "2\n",
            "3\n"
          ]
        }
      ]
    },
    {
      "cell_type": "code",
      "source": [
        "for i in dictionary.keys():\n",
        "    val = dictionary[i][0]*dictionary[i][1]\n",
        "    dictionary[i].append(val)"
      ],
      "metadata": {
        "id": "tci58xmhNPPO"
      },
      "execution_count": null,
      "outputs": []
    },
    {
      "cell_type": "code",
      "source": [
        "dictionary"
      ],
      "metadata": {
        "colab": {
          "base_uri": "https://localhost:8080/"
        },
        "id": "-4zK14wEOASF",
        "outputId": "8f81bedd-80f1-4fa8-8e10-9a6e0a2456cd"
      },
      "execution_count": null,
      "outputs": [
        {
          "output_type": "execute_result",
          "data": {
            "text/plain": [
              "{1: [20, 3, 60], 2: [30, 2, 60], 3: [10, 1, 10]}"
            ]
          },
          "metadata": {},
          "execution_count": 9
        }
      ]
    },
    {
      "cell_type": "markdown",
      "source": [
        "# $\\text{Case: Dictionary Implementation}$"
      ],
      "metadata": {
        "id": "rukxJE99xV3r"
      }
    },
    {
      "cell_type": "markdown",
      "source": [
        "## $\\text{Buat Class beserta Methods}$\n"
      ],
      "metadata": {
        "id": "5YvErSAER95J"
      }
    },
    {
      "cell_type": "code",
      "source": [
        "class Library:\n",
        "    def __init__(self):\n",
        "        \"\"\"\n",
        "        fungsi menginisialisasi dictionary\n",
        "\n",
        "        \"\"\"\n",
        "        self.data_buku = dict()\n",
        "        self.buku_pinjam = dict()\n",
        "\n",
        "    def tambah_buku(self, judul, tahun, jumlah):\n",
        "        \"\"\"\n",
        "        fungsi menambahkan data buku\n",
        "\n",
        "        parameters\n",
        "        judul       : str   judul buku yang akan ditambahkan\n",
        "        tahun       : int   tahun terbit buku\n",
        "        jumlah      : int   banyak buku tersebut pada perpustakaan\n",
        "\n",
        "        \"\"\"\n",
        "        self.data_buku.update({judul: [tahun, jumlah]})\n",
        "\n",
        "    def update_judul(self, judul, judul_baru):\n",
        "        \"\"\"\n",
        "        fungsi untuk memperbarui judul buku\n",
        "\n",
        "        parameters\n",
        "        judul       : str   judul buku yang ingin diperbarui\n",
        "        judul_baru  : str   judul baru untuk buku\n",
        "        \"\"\"\n",
        "        temp = self.data_buku[judul]\n",
        "        self.data_buku.pop(judul)\n",
        "        self.data_buku.update({judul_baru: temp})\n",
        "\n",
        "    def update_tahun(self, judul, tahun_baru):\n",
        "        self.data_buku[judul][0] = tahun_baru\n",
        "    \n",
        "    def update_jumlah(self, judul, jumlah_baru):\n",
        "        self.data_buku[judul][1] = jumlah_baru\n",
        "\n",
        "    def check_data_buku(self):\n",
        "        # print(self.data_buku)\n",
        "        data = pd.DataFrame(self.data_buku).T\n",
        "        data.columns = ['Tahun Terbit', 'Jumlah Buku']\n",
        "        print(data.to_markdown())\n",
        "    \n",
        "    def pinjam_buku(self, judul):\n",
        "        if self.data_buku[judul][1] == 0:\n",
        "            print(\"maaf buku habis\")\n",
        "        else:\n",
        "            self.update_jumlah(judul, self.data_buku[judul][1]-1)\n",
        "\n",
        "        self.buku_pinjam.update({judul: self.data_buku[judul]})\n",
        "    \n",
        "    def kembali_buku(self, judul):\n",
        "        self.update_jumlah(judul, self.data_buku[judul][1]+1)\n",
        "        self.buku_pinjam.pop(judul)\n",
        "\n",
        "    def check_pinjam_buku(self):\n",
        "        # print(self.data_buku)\n",
        "        if self.buku_pinjam == dict():\n",
        "            print('tidak ada buku yang dipinjam')\n",
        "        else:\n",
        "            data = pd.DataFrame(self.buku_pinjam).T\n",
        "            data.columns = ['Tahun Terbit', 'Jumlah Buku']\n",
        "            print(data.to_markdown())"
      ],
      "metadata": {
        "id": "lLmgcf4V2eUG"
      },
      "execution_count": null,
      "outputs": []
    },
    {
      "cell_type": "code",
      "source": [
        "try:\n",
        "    # update\n",
        "except:\n",
        "    print('Update Tidak Berhasil')"
      ],
      "metadata": {
        "id": "3kpo0r3oK8Y5"
      },
      "execution_count": null,
      "outputs": []
    },
    {
      "cell_type": "markdown",
      "source": [
        "## $\\text{Test Case}$\n"
      ],
      "metadata": {
        "id": "OTV5dRCCbgPS"
      }
    },
    {
      "cell_type": "code",
      "source": [
        "perpus_1 = Library()"
      ],
      "metadata": {
        "id": "Br58DUE_uxLY"
      },
      "execution_count": null,
      "outputs": []
    },
    {
      "cell_type": "code",
      "source": [
        "perpus_1.tambah_buku('Aku suka membaca', 2019, 2)\n",
        "perpus_1.tambah_buku('Sukses UTBK', 2020, 1)\n",
        "perpus_1.tambah_buku('Pemrograman Python', 1998, 3)\n",
        "perpus_1.check_data_buku()"
      ],
      "metadata": {
        "colab": {
          "base_uri": "https://localhost:8080/"
        },
        "id": "jpvWFPeM7TiC",
        "outputId": "537c79ab-23cf-4e9b-de6b-f809495dca50"
      },
      "execution_count": null,
      "outputs": [
        {
          "output_type": "stream",
          "name": "stdout",
          "text": [
            "|                    |   Tahun Terbit |   Jumlah Buku |\n",
            "|:-------------------|---------------:|--------------:|\n",
            "| Aku suka membaca   |           2019 |             2 |\n",
            "| Sukses UTBK        |           2020 |             1 |\n",
            "| Pemrograman Python |           1998 |             3 |\n"
          ]
        }
      ]
    },
    {
      "cell_type": "code",
      "source": [
        "perpus_1.update_jumlah('Sukses UTBK', 2)\n",
        "perpus_1.check_data_buku()"
      ],
      "metadata": {
        "colab": {
          "base_uri": "https://localhost:8080/"
        },
        "id": "D3O_Kfiv8L8u",
        "outputId": "1d06278a-b5cb-4ada-fa36-9a3d7a74fe9c"
      },
      "execution_count": null,
      "outputs": [
        {
          "output_type": "stream",
          "name": "stdout",
          "text": [
            "|                    |   Tahun Terbit |   Jumlah Buku |\n",
            "|:-------------------|---------------:|--------------:|\n",
            "| Aku suka membaca   |           2019 |             2 |\n",
            "| Sukses UTBK        |           2020 |             2 |\n",
            "| Pemrograman Python |           1998 |             3 |\n"
          ]
        }
      ]
    },
    {
      "cell_type": "markdown",
      "source": [
        "## $\\text{Bonus Requirements}$\n"
      ],
      "metadata": {
        "id": "Q7sekUxzbkY9"
      }
    },
    {
      "cell_type": "code",
      "source": [
        "perpus_1.pinjam_buku('Sukses UTBK')\n",
        "perpus_1.check_pinjam_buku()"
      ],
      "metadata": {
        "colab": {
          "base_uri": "https://localhost:8080/"
        },
        "id": "N0ck_6HDA7L-",
        "outputId": "92ee6c42-11c5-41de-ec30-8d74cacc1435"
      },
      "execution_count": null,
      "outputs": [
        {
          "output_type": "stream",
          "name": "stdout",
          "text": [
            "|             |   Tahun Terbit |   Jumlah Buku |\n",
            "|:------------|---------------:|--------------:|\n",
            "| Sukses UTBK |           2020 |             1 |\n"
          ]
        }
      ]
    },
    {
      "cell_type": "code",
      "source": [
        "perpus_1.check_data_buku()"
      ],
      "metadata": {
        "colab": {
          "base_uri": "https://localhost:8080/"
        },
        "id": "DiKkqeoNBBh2",
        "outputId": "a5c7ed2e-7d80-4996-f4d1-f86af59d9ada"
      },
      "execution_count": null,
      "outputs": [
        {
          "output_type": "stream",
          "name": "stdout",
          "text": [
            "|                    |   Tahun Terbit |   Jumlah Buku |\n",
            "|:-------------------|---------------:|--------------:|\n",
            "| Aku suka membaca   |           2019 |             2 |\n",
            "| Sukses UTBK        |           2020 |             1 |\n",
            "| Pemrograman Python |           1998 |             3 |\n"
          ]
        }
      ]
    },
    {
      "cell_type": "code",
      "source": [
        "perpus_1.kembali_buku('Sukses UTBK')\n",
        "perpus_1.check_pinjam_buku()"
      ],
      "metadata": {
        "colab": {
          "base_uri": "https://localhost:8080/"
        },
        "id": "MvMTVSJPBEHS",
        "outputId": "240f1269-ae50-4776-f706-e5a35bc53c30"
      },
      "execution_count": null,
      "outputs": [
        {
          "output_type": "stream",
          "name": "stdout",
          "text": [
            "tidak ada buku yang dipinjam\n"
          ]
        }
      ]
    },
    {
      "cell_type": "code",
      "source": [
        "perpus_1.check_data_buku()"
      ],
      "metadata": {
        "colab": {
          "base_uri": "https://localhost:8080/"
        },
        "id": "j5ARiPxKBMIS",
        "outputId": "22bbc8e2-65c1-4245-df5c-8ebe9bd53049"
      },
      "execution_count": null,
      "outputs": [
        {
          "output_type": "stream",
          "name": "stdout",
          "text": [
            "|                    |   Tahun Terbit |   Jumlah Buku |\n",
            "|:-------------------|---------------:|--------------:|\n",
            "| Aku suka membaca   |           2019 |             2 |\n",
            "| Sukses UTBK        |           2020 |             2 |\n",
            "| Pemrograman Python |           1998 |             3 |\n"
          ]
        }
      ]
    },
    {
      "cell_type": "markdown",
      "source": [
        "# $\\text{Case: List Implementation}$"
      ],
      "metadata": {
        "id": "V6z7nroYB9fT"
      }
    },
    {
      "cell_type": "markdown",
      "source": [
        "## $\\text{Buat Class beserta Methods}$\n"
      ],
      "metadata": {
        "id": "vQyeCH3YB9fU"
      }
    },
    {
      "cell_type": "code",
      "source": [
        "class Library:\n",
        "    def __init__(self):\n",
        "        \"\"\"\n",
        "        fungsi menginisialisasi list\n",
        "\n",
        "        \"\"\"\n",
        "        self.data_buku = list()\n",
        "        self.buku_pinjam = list()\n",
        "\n",
        "    def reset_buku(self):\n",
        "        self.data_buku = list()\n",
        "\n",
        "    def tambah_buku(self, judul, tahun, jumlah):\n",
        "        \"\"\"\n",
        "        fungsi menambahkan data buku\n",
        "\n",
        "        parameters\n",
        "        judul       : str   judul buku yang akan ditambahkan\n",
        "        tahun       : int   tahun terbit buku\n",
        "        jumlah      : int   banyak buku tersebut pada perpustakaan\n",
        "\n",
        "        \"\"\"\n",
        "        self.data_buku.append([judul, tahun, jumlah])\n",
        "    \n",
        "    def update_judul(self, judul, judul_baru):\n",
        "        self.data_buku[self.index_buku(judul)][0] = judul_baru\n",
        "            \n",
        "    def update_tahun(self, judul, tahun_baru):\n",
        "        self.data_buku[self.index_buku(judul)][1] = tahun_baru\n",
        "\n",
        "    def update_jumlah(self, judul, jumlah_baru):\n",
        "        self.data_buku[self.index_buku(judul)][2] = jumlah_baru\n",
        "\n",
        "    def index_buku(self, judul):\n",
        "        \"\"\"\n",
        "        fungsi mengembalikan nilai index dari baris yang mengandung value 'judul'\n",
        "\n",
        "        parameters\n",
        "        judul   : str   judul yang mau dicari\n",
        "\n",
        "        return\n",
        "        i       : int   index dari baris yang mengandung judul\n",
        "        \"\"\"\n",
        "        for i in range(len(self.data_buku)):\n",
        "            if judul == self.data_buku[i][0]:\n",
        "                return i\n",
        "\n",
        "    def check_data_buku(self):\n",
        "        # print(self.data_buku)\n",
        "        data = pd.DataFrame(self.data_buku)\n",
        "        data.columns = ['Judul Buku', 'Tahun Terbit', 'Jumlah Buku']\n",
        "        print(data.to_markdown())\n",
        "    \n",
        "    def pinjam_buku(self, judul):\n",
        "        if self.data_buku[self.index_buku(judul)][2] == 0:\n",
        "            print(\"maaf buku habis\")\n",
        "        else:\n",
        "            self.buku_pinjam.append([judul, self.data_buku[self.index_buku(judul)][1], 1])\n",
        "            self.data_buku[self.index_buku(judul)][2] -= 1\n",
        "\n",
        "    # def kembali_buku(self, judul):\n",
        "    #     self.update_jumlah(judul, self.data_buku[judul][1]+1)\n",
        "    #     self.buku_pinjam.pop(judul)\n",
        "\n",
        "    def check_pinjam_buku(self):\n",
        "        # print(self.data_buku)\n",
        "        data = pd.DataFrame(self.buku_pinjam)\n",
        "        data.columns = ['Judul Buku', 'Tahun Terbit', 'Jumlah Buku']\n",
        "        print(data.to_markdown())"
      ],
      "metadata": {
        "id": "-1ypgPjpB9fU"
      },
      "execution_count": null,
      "outputs": []
    },
    {
      "cell_type": "markdown",
      "source": [
        "## $\\text{Test Case}$\n"
      ],
      "metadata": {
        "id": "TnYNYfS1B9fU"
      }
    },
    {
      "cell_type": "code",
      "source": [
        "perpus_1 = Library()"
      ],
      "metadata": {
        "id": "EPBWukJWB9fU"
      },
      "execution_count": null,
      "outputs": []
    },
    {
      "cell_type": "code",
      "source": [
        "perpus_1.tambah_buku('Aku suka membaca', 2019, 2)\n",
        "perpus_1.tambah_buku('Sukses UTBK', 2020, 1)\n",
        "perpus_1.tambah_buku('Pemrograman Python', 1998, 3)\n",
        "perpus_1.check_data_buku()"
      ],
      "metadata": {
        "colab": {
          "base_uri": "https://localhost:8080/"
        },
        "outputId": "3d1b2bb7-50d5-483d-d4fa-380e5473dbc6",
        "id": "a1WGrC8NB9fV"
      },
      "execution_count": null,
      "outputs": [
        {
          "output_type": "stream",
          "name": "stdout",
          "text": [
            "|    | Judul Buku         |   Tahun Terbit |   Jumlah Buku |\n",
            "|---:|:-------------------|---------------:|--------------:|\n",
            "|  0 | Aku suka membaca   |           2019 |             2 |\n",
            "|  1 | Sukses UTBK        |           2020 |             1 |\n",
            "|  2 | Pemrograman Python |           1998 |             3 |\n"
          ]
        }
      ]
    },
    {
      "cell_type": "code",
      "source": [
        "perpus_1.update_jumlah('Sukses UTBK', 2)\n",
        "perpus_1.check_data_buku()"
      ],
      "metadata": {
        "colab": {
          "base_uri": "https://localhost:8080/"
        },
        "outputId": "89592164-c36d-476f-b0ca-2f2d2a3c1885",
        "id": "Xer6II4FB9fW"
      },
      "execution_count": null,
      "outputs": [
        {
          "output_type": "stream",
          "name": "stdout",
          "text": [
            "|    | Judul Buku         |   Tahun Terbit |   Jumlah Buku |\n",
            "|---:|:-------------------|---------------:|--------------:|\n",
            "|  0 | Aku suka membaca   |           2019 |             2 |\n",
            "|  1 | Sukses UTBK        |           2020 |             2 |\n",
            "|  2 | Pemrograman Python |           1998 |             3 |\n"
          ]
        }
      ]
    },
    {
      "cell_type": "code",
      "source": [
        "perpus_1.update_judul('Sukses UTBK', 'Sukses Kerja')\n",
        "perpus_1.check_data_buku()"
      ],
      "metadata": {
        "colab": {
          "base_uri": "https://localhost:8080/"
        },
        "id": "REISwCfUEExj",
        "outputId": "88855a4e-6e7a-40f0-c246-c57ffb3a0ffd"
      },
      "execution_count": null,
      "outputs": [
        {
          "output_type": "stream",
          "name": "stdout",
          "text": [
            "|    | Judul Buku         |   Tahun Terbit |   Jumlah Buku |\n",
            "|---:|:-------------------|---------------:|--------------:|\n",
            "|  0 | Aku suka membaca   |           2019 |             2 |\n",
            "|  1 | Sukses Kerja       |           2020 |             2 |\n",
            "|  2 | Pemrograman Python |           1998 |             3 |\n"
          ]
        }
      ]
    },
    {
      "cell_type": "code",
      "source": [
        "perpus_1.pinjam_buku('Sukses Kerja')\n",
        "perpus_1.check_data_buku()"
      ],
      "metadata": {
        "colab": {
          "base_uri": "https://localhost:8080/"
        },
        "id": "VGoaTe1vEYLL",
        "outputId": "2d5ae69c-a199-4f95-a838-f16eccb144b6"
      },
      "execution_count": null,
      "outputs": [
        {
          "output_type": "stream",
          "name": "stdout",
          "text": [
            "|    | Judul Buku         |   Tahun Terbit |   Jumlah Buku |\n",
            "|---:|:-------------------|---------------:|--------------:|\n",
            "|  0 | Aku suka membaca   |           2019 |             2 |\n",
            "|  1 | Sukses Kerja       |           2020 |             1 |\n",
            "|  2 | Pemrograman Python |           1998 |             3 |\n"
          ]
        }
      ]
    },
    {
      "cell_type": "code",
      "source": [
        "perpus_1.check_pinjam_buku()"
      ],
      "metadata": {
        "colab": {
          "base_uri": "https://localhost:8080/"
        },
        "id": "HiXgGlr5GKaC",
        "outputId": "b573a48a-4b47-4088-f753-fcd9d667f152"
      },
      "execution_count": null,
      "outputs": [
        {
          "output_type": "stream",
          "name": "stdout",
          "text": [
            "|    | Judul Buku   |   Tahun Terbit |   Jumlah Buku |\n",
            "|---:|:-------------|---------------:|--------------:|\n",
            "|  0 | Sukses Kerja |           2020 |             1 |\n"
          ]
        }
      ]
    },
    {
      "cell_type": "code",
      "source": [
        "1. looping dataframe. untuk setiap baris data panggil method tambah buku\n",
        "2. ubah method tambah_buku"
      ],
      "metadata": {
        "id": "ujmHRH_BETZy"
      },
      "execution_count": null,
      "outputs": []
    },
    {
      "cell_type": "markdown",
      "source": [
        "## $\\text{Bonus Requirements}$\n"
      ],
      "metadata": {
        "id": "eTNrn-3HB9fX"
      }
    },
    {
      "cell_type": "code",
      "source": [
        "perpus_1.pinjam_buku('Sukses UTBK')\n",
        "perpus_1.check_pinjam_buku()"
      ],
      "metadata": {
        "colab": {
          "base_uri": "https://localhost:8080/"
        },
        "outputId": "3fe80c22-96db-43f4-b367-50707cc0f317",
        "id": "O_WT-aNkB9fX"
      },
      "execution_count": null,
      "outputs": [
        {
          "output_type": "stream",
          "name": "stdout",
          "text": [
            "|             |   Tahun Terbit |   Jumlah Buku |\n",
            "|:------------|---------------:|--------------:|\n",
            "| Sukses UTBK |           2020 |             1 |\n"
          ]
        }
      ]
    },
    {
      "cell_type": "code",
      "source": [
        "perpus_1.check_data_buku()"
      ],
      "metadata": {
        "colab": {
          "base_uri": "https://localhost:8080/"
        },
        "outputId": "efbd4e91-a3b8-4241-ea41-568f6cc2dcc4",
        "id": "yBRnMJ5sB9fX"
      },
      "execution_count": null,
      "outputs": [
        {
          "output_type": "stream",
          "name": "stdout",
          "text": [
            "|                    |   Tahun Terbit |   Jumlah Buku |\n",
            "|:-------------------|---------------:|--------------:|\n",
            "| Aku suka membaca   |           2019 |             2 |\n",
            "| Sukses UTBK        |           2020 |             1 |\n",
            "| Pemrograman Python |           1998 |             3 |\n"
          ]
        }
      ]
    },
    {
      "cell_type": "code",
      "source": [
        "perpus_1.kembali_buku('Sukses UTBK')\n",
        "perpus_1.check_pinjam_buku()"
      ],
      "metadata": {
        "colab": {
          "base_uri": "https://localhost:8080/"
        },
        "outputId": "5198f904-483e-4bea-c4cf-ff65de7eace5",
        "id": "39H2PAOrB9fY"
      },
      "execution_count": null,
      "outputs": [
        {
          "output_type": "stream",
          "name": "stdout",
          "text": [
            "tidak ada buku yang dipinjam\n"
          ]
        }
      ]
    },
    {
      "cell_type": "code",
      "source": [
        "perpus_1.check_data_buku()"
      ],
      "metadata": {
        "colab": {
          "base_uri": "https://localhost:8080/"
        },
        "outputId": "34ae69fb-4c6b-4856-8f4d-3a6bebc3dc1e",
        "id": "y8TV7v49B9fY"
      },
      "execution_count": null,
      "outputs": [
        {
          "output_type": "stream",
          "name": "stdout",
          "text": [
            "|                    |   Tahun Terbit |   Jumlah Buku |\n",
            "|:-------------------|---------------:|--------------:|\n",
            "| Aku suka membaca   |           2019 |             2 |\n",
            "| Sukses UTBK        |           2020 |             2 |\n",
            "| Pemrograman Python |           1998 |             3 |\n"
          ]
        }
      ]
    },
    {
      "cell_type": "code",
      "source": [],
      "metadata": {
        "id": "R59YhqBTG2jF"
      },
      "execution_count": null,
      "outputs": []
    },
    {
      "cell_type": "markdown",
      "source": [
        "---\n",
        "# $\\text{Feedback Asistensi}$\n",
        "Terima Kasih telah mengikuti sesi asistensi hari ini! 😀\n",
        "\n",
        "Jangan lupa untuk mengisi feedback juga yaa, link feedback dapat diakses di\n",
        "[sini](https://bit.ly/FeedbackAsistensiOkt22)\n",
        "- Kelas = Python\n",
        "- Pekan = 7\n",
        "- Teaching Assistant = Fathimah Aulia"
      ],
      "metadata": {
        "id": "WO8k6aPnNjH3"
      }
    }
  ]
}